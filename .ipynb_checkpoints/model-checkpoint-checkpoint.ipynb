{
 "cells": [
  {
   "cell_type": "code",
   "execution_count": null,
   "id": "850247d1",
   "metadata": {},
   "outputs": [],
   "source": [
    "from neo4j import GraphDatabase\n",
    "import pandas as pd\n",
    "\n",
    "# Neo4j connection details\n",
    "URI = \"bolt://localhost:7687\"\n",
    "AUTH = (\"neo4j\", \"company123\")  # Replace with your actual password"
   ]
  },
  {
   "cell_type": "code",
   "execution_count": null,
   "id": "d653ae82",
   "metadata": {},
   "outputs": [],
   "source": [
    "# Verify connection\n",
    "def verify_connection():\n",
    "    try:\n",
    "        with GraphDatabase.driver(URI, auth=AUTH) as driver:\n",
    "            driver.verify_connectivity()\n",
    "            print(\"Connection established.\")\n",
    "    except Exception as e:\n",
    "        print(f\"Failed to connect to Neo4j: {e}\")"
   ]
  },
  {
   "cell_type": "code",
   "execution_count": null,
   "id": "dc8bc25c",
   "metadata": {},
   "outputs": [],
   "source": [
    "# Fetch data from Neo4j\n",
    "def fetchData():\n",
    "    query = \"\"\"\n",
    "    MATCH (e:Employee)-[:CHARGES]->(t:Time)-[:IS_BILLED_FOR]->(p:Project)\n",
    "    WHERE p.source <> 'Unknown'\n",
    "    WITH e, p, SUM(t.hours) AS total_time, AVG(e.rate) AS average_rate\n",
    "    RETURN p.project_type AS project_type, p.source as source, e.employee_name as employee_name, total_time, average_rate, total_time * average_rate AS total_cost\n",
    "    ORDER BY total_cost DESC\n",
    "    \"\"\"\n",
    "    \n",
    "    try:\n",
    "        with GraphDatabase.driver(URI, auth=AUTH) as driver:\n",
    "            with driver.session() as session:\n",
    "                result = session.run(query)\n",
    "                data = [record.data() for record in result]\n",
    "        \n",
    "        return pd.DataFrame(data)\n",
    "    except Exception as e:\n",
    "        print(f\"Failed to fetch data: {e}\")\n",
    "        return pd.DataFrame()"
   ]
  },
  {
   "cell_type": "code",
   "execution_count": null,
   "id": "e107f253",
   "metadata": {},
   "outputs": [],
   "source": [
    "# Verify connection\n",
    "verify_connection()\n",
    "\n",
    "# Fetch and display data\n",
    "data = fetchData()\n",
    "if data.empty:\n",
    "    print(\"No data found. Check your Neo4j database for the required data.\")\n"
   ]
  },
  {
   "cell_type": "code",
   "execution_count": null,
   "id": "7f2d9aa4",
   "metadata": {},
   "outputs": [],
   "source": [
    "print(data.head())"
   ]
  },
  {
   "cell_type": "code",
   "execution_count": null,
   "id": "b044029b",
   "metadata": {},
   "outputs": [],
   "source": [
    "print(data.dtypes)"
   ]
  },
  {
   "cell_type": "code",
   "execution_count": null,
   "id": "3cd46133",
   "metadata": {},
   "outputs": [],
   "source": [
    "from sklearn.model_selection import train_test_split\n",
    "# One-hot encode all categorical variables\n",
    "categorical_columns = ['project_type', 'source', 'employee_name']  # All categorical columns\n",
    "encoded_df = pd.get_dummies(data, columns=categorical_columns, drop_first=True)\n",
    "\n",
    "# Define features (X) and target (y)\n",
    "X = encoded_df.drop('total_cost', axis=1)  # Features: all columns except 'total_cost'\n",
    "y = encoded_df['total_cost']  # Target: 'total_cost'\n",
    "\n",
    "# Split the data into training and testing sets\n",
    "X_train, X_test, y_train, y_test = train_test_split(X, y, test_size=0.2, random_state=42)\n",
    "\n",
    "# Verify shapes\n",
    "print(\"Training data shape:\", X_train.shape)\n",
    "print(\"Testing data shape:\", X_test.shape)"
   ]
  },
  {
   "cell_type": "code",
   "execution_count": null,
   "id": "ae2ed83b",
   "metadata": {},
   "outputs": [],
   "source": [
    "# Train Random Forest Regressor\n",
    "model = RandomForestRegressor(n_estimators=100, random_state=42)\n",
    "model.fit(X_train, y_train)"
   ]
  },
  {
   "cell_type": "code",
   "execution_count": null,
   "id": "d5db590a",
   "metadata": {},
   "outputs": [],
   "source": [
    "from sklearn.metrics import mean_squared_error, r2_score, mean_absolute_error\n",
    "# Evaluate the model\n",
    "y_pred = model.predict(X_test)\n",
    "mse = mean_squared_error(y_test, y_pred) # Using mean squared due to regression problem\n",
    "r2 = r2_score(y_test, y_pred)\n",
    "mae = mean_absolute_error(y_test, y_pred)\n",
    "print(f\"Mean Squared Error: {mse:.2f}\")\n",
    "print(f\"R-squared: {r2: .2f}\")\n",
    "print(f\"Mean Absolute Error: {mae:.2f}\")"
   ]
  },
  {
   "cell_type": "code",
   "execution_count": null,
   "id": "d7a9b56a",
   "metadata": {},
   "outputs": [],
   "source": [
    "import matplotlib.pyplot as plt\n",
    "import seaborn as sns\n",
    "\n",
    "# Visualize the results\n",
    "\n",
    "# Compare predicted Actual vs Predicted Revenue\n",
    "plt.figure(figsize=(10, 6))\n",
    "plt.scatter(y_test, y_pred, alpha=0.5) # Scatter Plot\n",
    "plt.plot([y_test.min(), y_test.max()], [y_test.min(), y_test.max()], 'k--', lw=2) # Line of perfect predictions\n",
    "plt.xlabel('Actual Revenue')\n",
    "plt.ylabel('Predicted Revenue')\n",
    "plt.title('Actual vs Predicted Revenue')\n",
    "plt.show()"
   ]
  },
  {
   "cell_type": "code",
   "execution_count": null,
   "id": "e4b61301",
   "metadata": {},
   "outputs": [],
   "source": []
  }
 ],
 "metadata": {
  "kernelspec": {
   "display_name": "Python 3 (ipykernel)",
   "language": "python",
   "name": "python3"
  },
  "language_info": {
   "codemirror_mode": {
    "name": "ipython",
    "version": 3
   },
   "file_extension": ".py",
   "mimetype": "text/x-python",
   "name": "python",
   "nbconvert_exporter": "python",
   "pygments_lexer": "ipython3",
   "version": "3.9.12"
  }
 },
 "nbformat": 4,
 "nbformat_minor": 5
}
